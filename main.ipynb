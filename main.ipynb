{
  "nbformat": 4,
  "nbformat_minor": 0,
  "metadata": {
    "colab": {
      "provenance": []
    },
    "kernelspec": {
      "name": "python3",
      "display_name": "Python 3"
    },
    "language_info": {
      "name": "python"
    }
  },
  "cells": [
    {
      "cell_type": "code",
      "execution_count": 28,
      "metadata": {
        "id": "6s04ZYmzjC0u"
      },
      "outputs": [],
      "source": [
        "import pandas as pd\n",
        "from datetime import datetime\n",
        "from functools import partial\n",
        "import matplotlib.pyplot as plt\n",
        "import torch\n",
        "import torch.nn as nn\n",
        "import torch.optim as optim\n",
        "import torch.utils.data as data\n",
        "import numpy as np\n",
        "from sklearn.preprocessing import StandardScaler\n",
        "import random"
      ]
    },
    {
      "cell_type": "markdown",
      "source": [
        "# Data Loading and Preprocessing"
      ],
      "metadata": {
        "id": "VY4bQe1kbp9S"
      }
    },
    {
      "cell_type": "code",
      "source": [
        "df = pd.read_csv(\"/content/DAYTON_hourly.csv\")"
      ],
      "metadata": {
        "id": "x3rNgXoLjGk2"
      },
      "execution_count": 29,
      "outputs": []
    },
    {
      "cell_type": "code",
      "source": [
        "def extract_hour(dt, fmt):\n",
        "    dt_obj = datetime.strptime(dt, fmt)\n",
        "    return dt_obj.time().hour\n",
        "\n",
        "def extract_weekday(dt, fmt):\n",
        "    dt_obj = datetime.strptime(dt, fmt)\n",
        "    return dt_obj.weekday()"
      ],
      "metadata": {
        "id": "t1lPzk5_o__2"
      },
      "execution_count": 30,
      "outputs": []
    },
    {
      "cell_type": "code",
      "source": [
        "df[\"Hour\"] = df[\"Datetime\"].apply(partial(extract_hour, fmt=\"%Y-%m-%d %H:%M:%S\"))\n",
        "df[\"Weekday\"] = df[\"Datetime\"].apply(partial(extract_weekday, fmt=\"%Y-%m-%d %H:%M:%S\"))\n",
        "df.drop(columns=[\"Datetime\"], inplace=True)\n"
      ],
      "metadata": {
        "id": "s2KWp4xpn832"
      },
      "execution_count": 31,
      "outputs": []
    },
    {
      "cell_type": "code",
      "source": [
        "df"
      ],
      "metadata": {
        "colab": {
          "base_uri": "https://localhost:8080/",
          "height": 423
        },
        "id": "5w8p1LJIFeh2",
        "outputId": "139e4856-f3ed-4a88-8fc7-a0fd6f745415"
      },
      "execution_count": 32,
      "outputs": [
        {
          "output_type": "execute_result",
          "data": {
            "text/plain": [
              "        DAYTON_MW  Hour  Weekday\n",
              "0          1621.0     1        4\n",
              "1          1536.0     2        4\n",
              "2          1500.0     3        4\n",
              "3          1434.0     4        4\n",
              "4          1489.0     5        4\n",
              "...           ...   ...      ...\n",
              "121270     2554.0    20        3\n",
              "121271     2481.0    21        3\n",
              "121272     2405.0    22        3\n",
              "121273     2250.0    23        3\n",
              "121274     2042.0     0        4\n",
              "\n",
              "[121275 rows x 3 columns]"
            ],
            "text/html": [
              "\n",
              "  <div id=\"df-45818e4f-e655-4254-9d52-e964238e9827\" class=\"colab-df-container\">\n",
              "    <div>\n",
              "<style scoped>\n",
              "    .dataframe tbody tr th:only-of-type {\n",
              "        vertical-align: middle;\n",
              "    }\n",
              "\n",
              "    .dataframe tbody tr th {\n",
              "        vertical-align: top;\n",
              "    }\n",
              "\n",
              "    .dataframe thead th {\n",
              "        text-align: right;\n",
              "    }\n",
              "</style>\n",
              "<table border=\"1\" class=\"dataframe\">\n",
              "  <thead>\n",
              "    <tr style=\"text-align: right;\">\n",
              "      <th></th>\n",
              "      <th>DAYTON_MW</th>\n",
              "      <th>Hour</th>\n",
              "      <th>Weekday</th>\n",
              "    </tr>\n",
              "  </thead>\n",
              "  <tbody>\n",
              "    <tr>\n",
              "      <th>0</th>\n",
              "      <td>1621.0</td>\n",
              "      <td>1</td>\n",
              "      <td>4</td>\n",
              "    </tr>\n",
              "    <tr>\n",
              "      <th>1</th>\n",
              "      <td>1536.0</td>\n",
              "      <td>2</td>\n",
              "      <td>4</td>\n",
              "    </tr>\n",
              "    <tr>\n",
              "      <th>2</th>\n",
              "      <td>1500.0</td>\n",
              "      <td>3</td>\n",
              "      <td>4</td>\n",
              "    </tr>\n",
              "    <tr>\n",
              "      <th>3</th>\n",
              "      <td>1434.0</td>\n",
              "      <td>4</td>\n",
              "      <td>4</td>\n",
              "    </tr>\n",
              "    <tr>\n",
              "      <th>4</th>\n",
              "      <td>1489.0</td>\n",
              "      <td>5</td>\n",
              "      <td>4</td>\n",
              "    </tr>\n",
              "    <tr>\n",
              "      <th>...</th>\n",
              "      <td>...</td>\n",
              "      <td>...</td>\n",
              "      <td>...</td>\n",
              "    </tr>\n",
              "    <tr>\n",
              "      <th>121270</th>\n",
              "      <td>2554.0</td>\n",
              "      <td>20</td>\n",
              "      <td>3</td>\n",
              "    </tr>\n",
              "    <tr>\n",
              "      <th>121271</th>\n",
              "      <td>2481.0</td>\n",
              "      <td>21</td>\n",
              "      <td>3</td>\n",
              "    </tr>\n",
              "    <tr>\n",
              "      <th>121272</th>\n",
              "      <td>2405.0</td>\n",
              "      <td>22</td>\n",
              "      <td>3</td>\n",
              "    </tr>\n",
              "    <tr>\n",
              "      <th>121273</th>\n",
              "      <td>2250.0</td>\n",
              "      <td>23</td>\n",
              "      <td>3</td>\n",
              "    </tr>\n",
              "    <tr>\n",
              "      <th>121274</th>\n",
              "      <td>2042.0</td>\n",
              "      <td>0</td>\n",
              "      <td>4</td>\n",
              "    </tr>\n",
              "  </tbody>\n",
              "</table>\n",
              "<p>121275 rows × 3 columns</p>\n",
              "</div>\n",
              "    <div class=\"colab-df-buttons\">\n",
              "\n",
              "  <div class=\"colab-df-container\">\n",
              "    <button class=\"colab-df-convert\" onclick=\"convertToInteractive('df-45818e4f-e655-4254-9d52-e964238e9827')\"\n",
              "            title=\"Convert this dataframe to an interactive table.\"\n",
              "            style=\"display:none;\">\n",
              "\n",
              "  <svg xmlns=\"http://www.w3.org/2000/svg\" height=\"24px\" viewBox=\"0 -960 960 960\">\n",
              "    <path d=\"M120-120v-720h720v720H120Zm60-500h600v-160H180v160Zm220 220h160v-160H400v160Zm0 220h160v-160H400v160ZM180-400h160v-160H180v160Zm440 0h160v-160H620v160ZM180-180h160v-160H180v160Zm440 0h160v-160H620v160Z\"/>\n",
              "  </svg>\n",
              "    </button>\n",
              "\n",
              "  <style>\n",
              "    .colab-df-container {\n",
              "      display:flex;\n",
              "      gap: 12px;\n",
              "    }\n",
              "\n",
              "    .colab-df-convert {\n",
              "      background-color: #E8F0FE;\n",
              "      border: none;\n",
              "      border-radius: 50%;\n",
              "      cursor: pointer;\n",
              "      display: none;\n",
              "      fill: #1967D2;\n",
              "      height: 32px;\n",
              "      padding: 0 0 0 0;\n",
              "      width: 32px;\n",
              "    }\n",
              "\n",
              "    .colab-df-convert:hover {\n",
              "      background-color: #E2EBFA;\n",
              "      box-shadow: 0px 1px 2px rgba(60, 64, 67, 0.3), 0px 1px 3px 1px rgba(60, 64, 67, 0.15);\n",
              "      fill: #174EA6;\n",
              "    }\n",
              "\n",
              "    .colab-df-buttons div {\n",
              "      margin-bottom: 4px;\n",
              "    }\n",
              "\n",
              "    [theme=dark] .colab-df-convert {\n",
              "      background-color: #3B4455;\n",
              "      fill: #D2E3FC;\n",
              "    }\n",
              "\n",
              "    [theme=dark] .colab-df-convert:hover {\n",
              "      background-color: #434B5C;\n",
              "      box-shadow: 0px 1px 3px 1px rgba(0, 0, 0, 0.15);\n",
              "      filter: drop-shadow(0px 1px 2px rgba(0, 0, 0, 0.3));\n",
              "      fill: #FFFFFF;\n",
              "    }\n",
              "  </style>\n",
              "\n",
              "    <script>\n",
              "      const buttonEl =\n",
              "        document.querySelector('#df-45818e4f-e655-4254-9d52-e964238e9827 button.colab-df-convert');\n",
              "      buttonEl.style.display =\n",
              "        google.colab.kernel.accessAllowed ? 'block' : 'none';\n",
              "\n",
              "      async function convertToInteractive(key) {\n",
              "        const element = document.querySelector('#df-45818e4f-e655-4254-9d52-e964238e9827');\n",
              "        const dataTable =\n",
              "          await google.colab.kernel.invokeFunction('convertToInteractive',\n",
              "                                                    [key], {});\n",
              "        if (!dataTable) return;\n",
              "\n",
              "        const docLinkHtml = 'Like what you see? Visit the ' +\n",
              "          '<a target=\"_blank\" href=https://colab.research.google.com/notebooks/data_table.ipynb>data table notebook</a>'\n",
              "          + ' to learn more about interactive tables.';\n",
              "        element.innerHTML = '';\n",
              "        dataTable['output_type'] = 'display_data';\n",
              "        await google.colab.output.renderOutput(dataTable, element);\n",
              "        const docLink = document.createElement('div');\n",
              "        docLink.innerHTML = docLinkHtml;\n",
              "        element.appendChild(docLink);\n",
              "      }\n",
              "    </script>\n",
              "  </div>\n",
              "\n",
              "\n",
              "<div id=\"df-d42b6566-b812-4484-8c66-3e7656e826c4\">\n",
              "  <button class=\"colab-df-quickchart\" onclick=\"quickchart('df-d42b6566-b812-4484-8c66-3e7656e826c4')\"\n",
              "            title=\"Suggest charts\"\n",
              "            style=\"display:none;\">\n",
              "\n",
              "<svg xmlns=\"http://www.w3.org/2000/svg\" height=\"24px\"viewBox=\"0 0 24 24\"\n",
              "     width=\"24px\">\n",
              "    <g>\n",
              "        <path d=\"M19 3H5c-1.1 0-2 .9-2 2v14c0 1.1.9 2 2 2h14c1.1 0 2-.9 2-2V5c0-1.1-.9-2-2-2zM9 17H7v-7h2v7zm4 0h-2V7h2v10zm4 0h-2v-4h2v4z\"/>\n",
              "    </g>\n",
              "</svg>\n",
              "  </button>\n",
              "\n",
              "<style>\n",
              "  .colab-df-quickchart {\n",
              "      --bg-color: #E8F0FE;\n",
              "      --fill-color: #1967D2;\n",
              "      --hover-bg-color: #E2EBFA;\n",
              "      --hover-fill-color: #174EA6;\n",
              "      --disabled-fill-color: #AAA;\n",
              "      --disabled-bg-color: #DDD;\n",
              "  }\n",
              "\n",
              "  [theme=dark] .colab-df-quickchart {\n",
              "      --bg-color: #3B4455;\n",
              "      --fill-color: #D2E3FC;\n",
              "      --hover-bg-color: #434B5C;\n",
              "      --hover-fill-color: #FFFFFF;\n",
              "      --disabled-bg-color: #3B4455;\n",
              "      --disabled-fill-color: #666;\n",
              "  }\n",
              "\n",
              "  .colab-df-quickchart {\n",
              "    background-color: var(--bg-color);\n",
              "    border: none;\n",
              "    border-radius: 50%;\n",
              "    cursor: pointer;\n",
              "    display: none;\n",
              "    fill: var(--fill-color);\n",
              "    height: 32px;\n",
              "    padding: 0;\n",
              "    width: 32px;\n",
              "  }\n",
              "\n",
              "  .colab-df-quickchart:hover {\n",
              "    background-color: var(--hover-bg-color);\n",
              "    box-shadow: 0 1px 2px rgba(60, 64, 67, 0.3), 0 1px 3px 1px rgba(60, 64, 67, 0.15);\n",
              "    fill: var(--button-hover-fill-color);\n",
              "  }\n",
              "\n",
              "  .colab-df-quickchart-complete:disabled,\n",
              "  .colab-df-quickchart-complete:disabled:hover {\n",
              "    background-color: var(--disabled-bg-color);\n",
              "    fill: var(--disabled-fill-color);\n",
              "    box-shadow: none;\n",
              "  }\n",
              "\n",
              "  .colab-df-spinner {\n",
              "    border: 2px solid var(--fill-color);\n",
              "    border-color: transparent;\n",
              "    border-bottom-color: var(--fill-color);\n",
              "    animation:\n",
              "      spin 1s steps(1) infinite;\n",
              "  }\n",
              "\n",
              "  @keyframes spin {\n",
              "    0% {\n",
              "      border-color: transparent;\n",
              "      border-bottom-color: var(--fill-color);\n",
              "      border-left-color: var(--fill-color);\n",
              "    }\n",
              "    20% {\n",
              "      border-color: transparent;\n",
              "      border-left-color: var(--fill-color);\n",
              "      border-top-color: var(--fill-color);\n",
              "    }\n",
              "    30% {\n",
              "      border-color: transparent;\n",
              "      border-left-color: var(--fill-color);\n",
              "      border-top-color: var(--fill-color);\n",
              "      border-right-color: var(--fill-color);\n",
              "    }\n",
              "    40% {\n",
              "      border-color: transparent;\n",
              "      border-right-color: var(--fill-color);\n",
              "      border-top-color: var(--fill-color);\n",
              "    }\n",
              "    60% {\n",
              "      border-color: transparent;\n",
              "      border-right-color: var(--fill-color);\n",
              "    }\n",
              "    80% {\n",
              "      border-color: transparent;\n",
              "      border-right-color: var(--fill-color);\n",
              "      border-bottom-color: var(--fill-color);\n",
              "    }\n",
              "    90% {\n",
              "      border-color: transparent;\n",
              "      border-bottom-color: var(--fill-color);\n",
              "    }\n",
              "  }\n",
              "</style>\n",
              "\n",
              "  <script>\n",
              "    async function quickchart(key) {\n",
              "      const quickchartButtonEl =\n",
              "        document.querySelector('#' + key + ' button');\n",
              "      quickchartButtonEl.disabled = true;  // To prevent multiple clicks.\n",
              "      quickchartButtonEl.classList.add('colab-df-spinner');\n",
              "      try {\n",
              "        const charts = await google.colab.kernel.invokeFunction(\n",
              "            'suggestCharts', [key], {});\n",
              "      } catch (error) {\n",
              "        console.error('Error during call to suggestCharts:', error);\n",
              "      }\n",
              "      quickchartButtonEl.classList.remove('colab-df-spinner');\n",
              "      quickchartButtonEl.classList.add('colab-df-quickchart-complete');\n",
              "    }\n",
              "    (() => {\n",
              "      let quickchartButtonEl =\n",
              "        document.querySelector('#df-d42b6566-b812-4484-8c66-3e7656e826c4 button');\n",
              "      quickchartButtonEl.style.display =\n",
              "        google.colab.kernel.accessAllowed ? 'block' : 'none';\n",
              "    })();\n",
              "  </script>\n",
              "</div>\n",
              "    </div>\n",
              "  </div>\n"
            ],
            "application/vnd.google.colaboratory.intrinsic+json": {
              "type": "dataframe",
              "variable_name": "df"
            }
          },
          "metadata": {},
          "execution_count": 32
        }
      ]
    },
    {
      "cell_type": "code",
      "source": [
        "Xy = df.to_numpy()"
      ],
      "metadata": {
        "id": "EVI16F_HsFcA"
      },
      "execution_count": 33,
      "outputs": []
    },
    {
      "cell_type": "code",
      "source": [
        "x_scalar = StandardScaler()\n",
        "x_scalar.fit(Xy)\n",
        "\n",
        "y_scalar = StandardScaler()\n",
        "y_scalar.fit(Xy[:, [0]])\n",
        "\n",
        "Xy_norm = x_scalar.transform(Xy)"
      ],
      "metadata": {
        "id": "A5aRgXTTf46e"
      },
      "execution_count": 34,
      "outputs": []
    },
    {
      "cell_type": "code",
      "source": [
        "def create_dataset(data, lookback, device):\n",
        "    X, y = [], []\n",
        "    for i in range(len(data) - lookback):\n",
        "        X.append(data[i:i+lookback, :])\n",
        "        y.append(data[i+lookback, 0])\n",
        "    return torch.tensor(np.array(X), dtype=torch.float32).to(device), torch.tensor(np.array(y), dtype=torch.float32).to(device)"
      ],
      "metadata": {
        "id": "6D-uTpm_u1BN"
      },
      "execution_count": 35,
      "outputs": []
    },
    {
      "cell_type": "code",
      "source": [
        "device = 'cuda' if torch.cuda.is_available() else 'cpu'\n",
        "device"
      ],
      "metadata": {
        "colab": {
          "base_uri": "https://localhost:8080/",
          "height": 36
        },
        "id": "1J8Nuws_wlhA",
        "outputId": "151093a5-8220-40fc-d11d-757b5754f201"
      },
      "execution_count": 36,
      "outputs": [
        {
          "output_type": "execute_result",
          "data": {
            "text/plain": [
              "'cpu'"
            ],
            "application/vnd.google.colaboratory.intrinsic+json": {
              "type": "string"
            }
          },
          "metadata": {},
          "execution_count": 36
        }
      ]
    },
    {
      "cell_type": "code",
      "source": [
        "lookback = 15\n",
        "train_portion = 0.7\n",
        "\n",
        "X, y = create_dataset(Xy_norm, lookback, device)\n",
        "\n",
        "train_size = int(0.7 *len(X))\n",
        "test_size = len(X) - train_size\n",
        "\n",
        "\n",
        "X_train, y_train = X[:train_size, :], y[:train_size]\n",
        "X_test, y_test = X[train_size:, :], y[train_size:]\n",
        "\n",
        "\n",
        "print(X_train.shape, y_train.shape)\n",
        "print(X_test.shape, y_test.shape)"
      ],
      "metadata": {
        "colab": {
          "base_uri": "https://localhost:8080/"
        },
        "id": "3gX3u6rDbm-9",
        "outputId": "26b5cab6-56ab-4ce7-e448-3041e6a79989"
      },
      "execution_count": 37,
      "outputs": [
        {
          "output_type": "stream",
          "name": "stdout",
          "text": [
            "torch.Size([84882, 15, 3]) torch.Size([84882])\n",
            "torch.Size([36378, 15, 3]) torch.Size([36378])\n"
          ]
        }
      ]
    },
    {
      "cell_type": "markdown",
      "source": [
        "# Model Definition and Training"
      ],
      "metadata": {
        "id": "bILQEUmYb5v0"
      }
    },
    {
      "cell_type": "code",
      "source": [
        "class Predictor(nn.Module):\n",
        "    def __init__(self, input_size, hidden_size):\n",
        "        super().__init__()\n",
        "        self.lstm = nn.LSTM(input_size, hidden_size, num_layers=1, batch_first=True)\n",
        "        self.linear = nn.Linear(hidden_size, 1)\n",
        "\n",
        "    def forward(self, x):\n",
        "        x, _ = self.lstm(x)\n",
        "        x = x[..., -1, :]\n",
        "        x = self.linear(x).squeeze()\n",
        "        return x\n"
      ],
      "metadata": {
        "id": "rTZP531N5TFb"
      },
      "execution_count": 38,
      "outputs": []
    },
    {
      "cell_type": "code",
      "source": [
        "input_size = 3\n",
        "hidden_size = 40\n",
        "\n",
        "model = Predictor(input_size, hidden_size).to(device)\n",
        "optimizer = optim.Adam(model.parameters())\n",
        "loss_fn = nn.MSELoss()\n",
        "loader = data.DataLoader(data.TensorDataset(X_train, y_train), batch_size=32, shuffle=True)"
      ],
      "metadata": {
        "id": "Ef5PBR0N7dWL"
      },
      "execution_count": 39,
      "outputs": []
    },
    {
      "cell_type": "code",
      "source": [
        "epoches = 30\n",
        "\n",
        "for epoch in range(epoches):\n",
        "    model.train()\n",
        "    for X_batch, y_batch in loader:\n",
        "        y_pred = model(X_batch)\n",
        "        loss = loss_fn(y_pred, y_batch)\n",
        "        optimizer.zero_grad()\n",
        "        loss.backward()\n",
        "        optimizer.step()\n",
        "\n",
        "\n",
        "    model.eval()\n",
        "    with torch.no_grad():\n",
        "        k = 1000\n",
        "        train_start_index = random.randint(0, X_train.shape[0] - k - 1)\n",
        "        test_start_index = random.randint(0, X_test.shape[0] - k - 1)\n",
        "\n",
        "        X_train_sample = X_train[train_start_index:train_start_index + k]\n",
        "        y_train_sample = y_train[train_start_index:train_start_index + k]\n",
        "\n",
        "        X_test_sample = X_test[test_start_index:test_start_index + k]\n",
        "        y_test_sample = y_test[test_start_index:test_start_index + k]\n",
        "\n",
        "        y_pred = model(X_train_sample)\n",
        "        train_rmse = loss_fn(y_pred, y_train_sample)\n",
        "        y_pred = model(X_test_sample)\n",
        "        test_rmse = loss_fn(y_pred, y_test_sample)\n",
        "        print(\"Epoch %d: train RMSE %.4f, test RMSE %.4f\" % (epoch + 1, train_rmse, test_rmse))\n",
        "\n"
      ],
      "metadata": {
        "colab": {
          "base_uri": "https://localhost:8080/"
        },
        "id": "uXsxdape7nRU",
        "outputId": "78972e9e-4914-4884-d660-3eb15634c930"
      },
      "execution_count": 41,
      "outputs": [
        {
          "output_type": "stream",
          "name": "stdout",
          "text": [
            "Epoch 1: train RMSE 0.0061, test RMSE 0.0032\n",
            "Epoch 2: train RMSE 0.0040, test RMSE 0.0028\n",
            "Epoch 3: train RMSE 0.0058, test RMSE 0.0040\n",
            "Epoch 4: train RMSE 0.0057, test RMSE 0.0048\n",
            "Epoch 5: train RMSE 0.0045, test RMSE 0.0040\n",
            "Epoch 6: train RMSE 0.0035, test RMSE 0.0032\n",
            "Epoch 7: train RMSE 0.0039, test RMSE 0.0033\n",
            "Epoch 8: train RMSE 0.0032, test RMSE 0.0052\n",
            "Epoch 9: train RMSE 0.0046, test RMSE 0.0027\n",
            "Epoch 10: train RMSE 0.0032, test RMSE 0.0047\n",
            "Epoch 11: train RMSE 0.0039, test RMSE 0.0053\n",
            "Epoch 12: train RMSE 0.0055, test RMSE 0.0038\n",
            "Epoch 13: train RMSE 0.0035, test RMSE 0.0106\n",
            "Epoch 14: train RMSE 0.0048, test RMSE 0.0060\n",
            "Epoch 15: train RMSE 0.0028, test RMSE 0.0029\n",
            "Epoch 16: train RMSE 0.0033, test RMSE 0.0034\n",
            "Epoch 17: train RMSE 0.0059, test RMSE 0.0055\n",
            "Epoch 18: train RMSE 0.0025, test RMSE 0.0045\n",
            "Epoch 19: train RMSE 0.0036, test RMSE 0.0022\n",
            "Epoch 20: train RMSE 0.0029, test RMSE 0.0034\n",
            "Epoch 21: train RMSE 0.0037, test RMSE 0.0033\n",
            "Epoch 22: train RMSE 0.0041, test RMSE 0.0031\n",
            "Epoch 23: train RMSE 0.0027, test RMSE 0.0032\n",
            "Epoch 24: train RMSE 0.0031, test RMSE 0.0034\n",
            "Epoch 25: train RMSE 0.0035, test RMSE 0.0035\n",
            "Epoch 26: train RMSE 0.0050, test RMSE 0.0038\n",
            "Epoch 27: train RMSE 0.0026, test RMSE 0.0051\n",
            "Epoch 28: train RMSE 0.0060, test RMSE 0.0030\n",
            "Epoch 29: train RMSE 0.0031, test RMSE 0.0023\n",
            "Epoch 30: train RMSE 0.0042, test RMSE 0.0034\n"
          ]
        }
      ]
    },
    {
      "cell_type": "markdown",
      "source": [
        "# Evaluation and Results"
      ],
      "metadata": {
        "id": "6-eKThTFVY7I"
      }
    },
    {
      "cell_type": "code",
      "source": [
        "def recursiv_predict(model, X, future_data, device):\n",
        "    hours_to_predict = len(future_data)\n",
        "    y_pred = torch.zeros((hours_to_predict,)).to(device)\n",
        "    window = X.clone()\n",
        "\n",
        "    model.eval()\n",
        "    with torch.no_grad():\n",
        "        for step in range(hours_to_predict):\n",
        "            y_pred[step] = model(window)\n",
        "            window = torch.roll(window, -1, 0)\n",
        "            window[-1, 0] = y_pred[step]\n",
        "            window[-1, 1:] = future_data[step]\n",
        "    return y_pred\n",
        "\n"
      ],
      "metadata": {
        "id": "7rZZnMIDOKXq"
      },
      "execution_count": 57,
      "outputs": []
    },
    {
      "cell_type": "code",
      "source": [
        "hours_to_predict = 48\n",
        "start = random.randint(0, X_train.shape[0] - hours_to_predict - 1)\n",
        "\n",
        "\n",
        "input = X_train[start]\n",
        "future_data = X_train[start + 1: start + 1 + hours_to_predict, -1, 1:]\n",
        "\n",
        "y_pred = recursiv_predict(model, input, future_data, device)\n",
        "y_true = y_train[start:start + hours_to_predict]\n",
        "\n",
        "y_pred = y_pred.detach().cpu().numpy()\n",
        "y_true = y_true.detach().cpu().numpy()\n",
        "\n",
        "y_pred = y_scalar.inverse_transform(y_pred.reshape(-1, 1)).squeeze()\n",
        "y_true = y_scalar.inverse_transform(y_true.reshape(-1, 1)).squeeze()\n",
        "\n",
        "plt.plot(y_true, label='Actual')\n",
        "plt.plot(y_pred, label='Predicted')\n",
        "plt.title(f\"Predicted Value and Actual Value Graph For {hours_to_predict} Hours For Training Set\")\n",
        "plt.xlabel(\"Hours\")\n",
        "plt.ylabel(\"Value\")\n",
        "plt.legend()"
      ],
      "metadata": {
        "colab": {
          "base_uri": "https://localhost:8080/",
          "height": 489
        },
        "id": "zOTuccm_Qc6K",
        "outputId": "b6badfbe-4389-4237-cfba-d55cc0a989db"
      },
      "execution_count": 69,
      "outputs": [
        {
          "output_type": "execute_result",
          "data": {
            "text/plain": [
              "<matplotlib.legend.Legend at 0x7b75c49c6fb0>"
            ]
          },
          "metadata": {},
          "execution_count": 69
        },
        {
          "output_type": "display_data",
          "data": {
            "text/plain": [
              "<Figure size 640x480 with 1 Axes>"
            ],
            "image/png": "[encoded data removed]"
          },
          "metadata": {}
        }
      ]
    },
    {
      "cell_type": "code",
      "source": [
        "hours_to_predict = 48\n",
        "start = random.randint(0, X_test.shape[0] - hours_to_predict - 1)\n",
        "\n",
        "\n",
        "input = X_test[start]\n",
        "future_data = X_test[start + 1: start + 1 + hours_to_predict, -1, 1:]\n",
        "\n",
        "y_pred = recursiv_predict(model, input, future_data, device)\n",
        "y_true = y_test[start:start + hours_to_predict]\n",
        "\n",
        "y_pred = y_pred.detach().cpu().numpy()\n",
        "y_true = y_true.detach().cpu().numpy()\n",
        "\n",
        "y_pred = y_scalar.inverse_transform(y_pred.reshape(-1, 1)).squeeze()\n",
        "y_true = y_scalar.inverse_transform(y_true.reshape(-1, 1)).squeeze()\n",
        "\n",
        "plt.plot(y_true, label='Actual')\n",
        "plt.plot(y_pred, label='Predicted')\n",
        "plt.title(f\"Predicted Value and Actual Value Graph For {hours_to_predict} Hours For Test Set\")\n",
        "plt.xlabel(\"Hours\")\n",
        "plt.ylabel(\"Value\")\n",
        "plt.legend()"
      ],
      "metadata": {
        "colab": {
          "base_uri": "https://localhost:8080/",
          "height": 489
        },
        "id": "WvidMCKz_H2x",
        "outputId": "5edd929b-eb78-4387-98a1-de54788a349f"
      },
      "execution_count": 71,
      "outputs": [
        {
          "output_type": "execute_result",
          "data": {
            "text/plain": [
              "<matplotlib.legend.Legend at 0x7b75c4783190>"
            ]
          },
          "metadata": {},
          "execution_count": 71
        },
        {
          "output_type": "display_data",
          "data": {
            "text/plain": [
              "<Figure size 640x480 with 1 Axes>"
            ],
            "image/png": "[encoded data removed]"
          },
          "metadata": {}
        }
      ]
    },
    {
      "cell_type": "code",
      "source": [
        "hours_to_predict = 48\n",
        "\n",
        "samples = 500\n",
        "errors = np.zeros((samples, ))\n",
        "\n",
        "for i in range(samples):\n",
        "\n",
        "    start = random.randint(0, X_test.shape[0] - hours_to_predict - 1)\n",
        "\n",
        "    input = X_test[start]\n",
        "    future_data = X_test[start + 1: start + 1 + hours_to_predict, -1, 1:]\n",
        "\n",
        "    y_pred = recursiv_predict(model, input, future_data, device)\n",
        "    y_true = y_test[start:start + hours_to_predict]\n",
        "\n",
        "    y_pred = y_pred.detach().cpu().numpy()\n",
        "    y_true = y_true.detach().cpu().numpy()\n",
        "\n",
        "    y_pred = y_scalar.inverse_transform(y_pred.reshape(-1, 1)).squeeze()\n",
        "    y_true = y_scalar.inverse_transform(y_true.reshape(-1, 1)).squeeze()\n",
        "\n",
        "    error = np.mean(np.abs((y_pred - y_true) / y_true) * 100)\n",
        "    errors[i] = error\n",
        "\n",
        "final_error = np.mean(errors)\n",
        "print(f\"Mean percentage error for test set when predicting for {hours_to_predict} hours is: {final_error:.2f}%\")"
      ],
      "metadata": {
        "colab": {
          "base_uri": "https://localhost:8080/"
        },
        "id": "dcxHJvIJUViJ",
        "outputId": "d99dccac-a898-433a-e8b5-d7f2059c95de"
      },
      "execution_count": 68,
      "outputs": [
        {
          "output_type": "stream",
          "name": "stdout",
          "text": [
            "Mean percentage error for test set when predicting for 48 hours is: 6.28%\n"
          ]
        }
      ]
    }
  ]
}